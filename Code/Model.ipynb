{
  "cells": [
    {
      "cell_type": "code",
      "source": [
        "pip install gradio"
      ],
      "metadata": {
        "colab": {
          "base_uri": "https://localhost:8080/"
        },
        "id": "zu4A7BGmxv4k",
        "outputId": "8e46fcae-f8e7-4b38-ddf5-0fea685d7be4"
      },
      "id": "zu4A7BGmxv4k",
      "execution_count": 4,
      "outputs": [
        {
          "output_type": "stream",
          "name": "stdout",
          "text": [
            "Looking in indexes: https://pypi.org/simple, https://us-python.pkg.dev/colab-wheels/public/simple/\n",
            "Requirement already satisfied: gradio in /usr/local/lib/python3.9/dist-packages (3.24.1)\n",
            "Requirement already satisfied: python-multipart in /usr/local/lib/python3.9/dist-packages (from gradio) (0.0.6)\n",
            "Requirement already satisfied: typing-extensions in /usr/local/lib/python3.9/dist-packages (from gradio) (4.5.0)\n",
            "Requirement already satisfied: fastapi in /usr/local/lib/python3.9/dist-packages (from gradio) (0.95.0)\n",
            "Requirement already satisfied: requests in /usr/local/lib/python3.9/dist-packages (from gradio) (2.27.1)\n",
            "Requirement already satisfied: ffmpy in /usr/local/lib/python3.9/dist-packages (from gradio) (0.3.0)\n",
            "Requirement already satisfied: uvicorn in /usr/local/lib/python3.9/dist-packages (from gradio) (0.21.1)\n",
            "Requirement already satisfied: pillow in /usr/local/lib/python3.9/dist-packages (from gradio) (8.4.0)\n",
            "Requirement already satisfied: markdown-it-py[linkify]>=2.0.0 in /usr/local/lib/python3.9/dist-packages (from gradio) (2.2.0)\n",
            "Requirement already satisfied: pandas in /usr/local/lib/python3.9/dist-packages (from gradio) (1.4.4)\n",
            "Requirement already satisfied: orjson in /usr/local/lib/python3.9/dist-packages (from gradio) (3.8.9)\n",
            "Requirement already satisfied: aiohttp in /usr/local/lib/python3.9/dist-packages (from gradio) (3.8.4)\n",
            "Requirement already satisfied: gradio-client>=0.0.5 in /usr/local/lib/python3.9/dist-packages (from gradio) (0.0.5)\n",
            "Requirement already satisfied: jinja2 in /usr/local/lib/python3.9/dist-packages (from gradio) (3.1.2)\n",
            "Requirement already satisfied: mdit-py-plugins<=0.3.3 in /usr/local/lib/python3.9/dist-packages (from gradio) (0.3.3)\n",
            "Requirement already satisfied: markupsafe in /usr/local/lib/python3.9/dist-packages (from gradio) (2.1.2)\n",
            "Requirement already satisfied: pydantic in /usr/local/lib/python3.9/dist-packages (from gradio) (1.10.7)\n",
            "Requirement already satisfied: httpx in /usr/local/lib/python3.9/dist-packages (from gradio) (0.23.3)\n",
            "Requirement already satisfied: pyyaml in /usr/local/lib/python3.9/dist-packages (from gradio) (6.0)\n",
            "Requirement already satisfied: aiofiles in /usr/local/lib/python3.9/dist-packages (from gradio) (23.1.0)\n",
            "Requirement already satisfied: huggingface-hub>=0.13.0 in /usr/local/lib/python3.9/dist-packages (from gradio) (0.13.3)\n",
            "Requirement already satisfied: semantic-version in /usr/local/lib/python3.9/dist-packages (from gradio) (2.10.0)\n",
            "Requirement already satisfied: pydub in /usr/local/lib/python3.9/dist-packages (from gradio) (0.25.1)\n",
            "Requirement already satisfied: matplotlib in /usr/local/lib/python3.9/dist-packages (from gradio) (3.7.1)\n",
            "Requirement already satisfied: websockets>=10.0 in /usr/local/lib/python3.9/dist-packages (from gradio) (10.4)\n",
            "Requirement already satisfied: altair>=4.2.0 in /usr/local/lib/python3.9/dist-packages (from gradio) (4.2.2)\n",
            "Requirement already satisfied: numpy in /usr/local/lib/python3.9/dist-packages (from gradio) (1.22.4)\n",
            "Requirement already satisfied: jsonschema>=3.0 in /usr/local/lib/python3.9/dist-packages (from altair>=4.2.0->gradio) (4.3.3)\n",
            "Requirement already satisfied: toolz in /usr/local/lib/python3.9/dist-packages (from altair>=4.2.0->gradio) (0.12.0)\n",
            "Requirement already satisfied: entrypoints in /usr/local/lib/python3.9/dist-packages (from altair>=4.2.0->gradio) (0.4)\n",
            "Requirement already satisfied: fsspec in /usr/local/lib/python3.9/dist-packages (from gradio-client>=0.0.5->gradio) (2023.3.0)\n",
            "Requirement already satisfied: packaging in /usr/local/lib/python3.9/dist-packages (from gradio-client>=0.0.5->gradio) (23.0)\n",
            "Requirement already satisfied: filelock in /usr/local/lib/python3.9/dist-packages (from huggingface-hub>=0.13.0->gradio) (3.10.7)\n",
            "Requirement already satisfied: tqdm>=4.42.1 in /usr/local/lib/python3.9/dist-packages (from huggingface-hub>=0.13.0->gradio) (4.65.0)\n",
            "Requirement already satisfied: mdurl~=0.1 in /usr/local/lib/python3.9/dist-packages (from markdown-it-py[linkify]>=2.0.0->gradio) (0.1.2)\n",
            "Requirement already satisfied: linkify-it-py<3,>=1 in /usr/local/lib/python3.9/dist-packages (from markdown-it-py[linkify]>=2.0.0->gradio) (2.0.0)\n",
            "Requirement already satisfied: python-dateutil>=2.8.1 in /usr/local/lib/python3.9/dist-packages (from pandas->gradio) (2.8.2)\n",
            "Requirement already satisfied: pytz>=2020.1 in /usr/local/lib/python3.9/dist-packages (from pandas->gradio) (2022.7.1)\n",
            "Requirement already satisfied: async-timeout<5.0,>=4.0.0a3 in /usr/local/lib/python3.9/dist-packages (from aiohttp->gradio) (4.0.2)\n",
            "Requirement already satisfied: yarl<2.0,>=1.0 in /usr/local/lib/python3.9/dist-packages (from aiohttp->gradio) (1.8.2)\n",
            "Requirement already satisfied: aiosignal>=1.1.2 in /usr/local/lib/python3.9/dist-packages (from aiohttp->gradio) (1.3.1)\n",
            "Requirement already satisfied: attrs>=17.3.0 in /usr/local/lib/python3.9/dist-packages (from aiohttp->gradio) (22.2.0)\n",
            "Requirement already satisfied: multidict<7.0,>=4.5 in /usr/local/lib/python3.9/dist-packages (from aiohttp->gradio) (6.0.4)\n",
            "Requirement already satisfied: frozenlist>=1.1.1 in /usr/local/lib/python3.9/dist-packages (from aiohttp->gradio) (1.3.3)\n",
            "Requirement already satisfied: charset-normalizer<4.0,>=2.0 in /usr/local/lib/python3.9/dist-packages (from aiohttp->gradio) (2.0.12)\n",
            "Requirement already satisfied: starlette<0.27.0,>=0.26.1 in /usr/local/lib/python3.9/dist-packages (from fastapi->gradio) (0.26.1)\n",
            "Requirement already satisfied: sniffio in /usr/local/lib/python3.9/dist-packages (from httpx->gradio) (1.3.0)\n",
            "Requirement already satisfied: certifi in /usr/local/lib/python3.9/dist-packages (from httpx->gradio) (2022.12.7)\n",
            "Requirement already satisfied: httpcore<0.17.0,>=0.15.0 in /usr/local/lib/python3.9/dist-packages (from httpx->gradio) (0.16.3)\n",
            "Requirement already satisfied: rfc3986[idna2008]<2,>=1.3 in /usr/local/lib/python3.9/dist-packages (from httpx->gradio) (1.5.0)\n",
            "Requirement already satisfied: fonttools>=4.22.0 in /usr/local/lib/python3.9/dist-packages (from matplotlib->gradio) (4.39.3)\n",
            "Requirement already satisfied: kiwisolver>=1.0.1 in /usr/local/lib/python3.9/dist-packages (from matplotlib->gradio) (1.4.4)\n",
            "Requirement already satisfied: pyparsing>=2.3.1 in /usr/local/lib/python3.9/dist-packages (from matplotlib->gradio) (3.0.9)\n",
            "Requirement already satisfied: importlib-resources>=3.2.0 in /usr/local/lib/python3.9/dist-packages (from matplotlib->gradio) (5.12.0)\n",
            "Requirement already satisfied: cycler>=0.10 in /usr/local/lib/python3.9/dist-packages (from matplotlib->gradio) (0.11.0)\n",
            "Requirement already satisfied: contourpy>=1.0.1 in /usr/local/lib/python3.9/dist-packages (from matplotlib->gradio) (1.0.7)\n",
            "Requirement already satisfied: idna<4,>=2.5 in /usr/local/lib/python3.9/dist-packages (from requests->gradio) (3.4)\n",
            "Requirement already satisfied: urllib3<1.27,>=1.21.1 in /usr/local/lib/python3.9/dist-packages (from requests->gradio) (1.26.15)\n",
            "Requirement already satisfied: h11>=0.8 in /usr/local/lib/python3.9/dist-packages (from uvicorn->gradio) (0.14.0)\n",
            "Requirement already satisfied: click>=7.0 in /usr/local/lib/python3.9/dist-packages (from uvicorn->gradio) (8.1.3)\n",
            "Requirement already satisfied: anyio<5.0,>=3.0 in /usr/local/lib/python3.9/dist-packages (from httpcore<0.17.0,>=0.15.0->httpx->gradio) (3.6.2)\n",
            "Requirement already satisfied: zipp>=3.1.0 in /usr/local/lib/python3.9/dist-packages (from importlib-resources>=3.2.0->matplotlib->gradio) (3.15.0)\n",
            "Requirement already satisfied: pyrsistent!=0.17.0,!=0.17.1,!=0.17.2,>=0.14.0 in /usr/local/lib/python3.9/dist-packages (from jsonschema>=3.0->altair>=4.2.0->gradio) (0.19.3)\n",
            "Requirement already satisfied: uc-micro-py in /usr/local/lib/python3.9/dist-packages (from linkify-it-py<3,>=1->markdown-it-py[linkify]>=2.0.0->gradio) (1.0.1)\n",
            "Requirement already satisfied: six>=1.5 in /usr/local/lib/python3.9/dist-packages (from python-dateutil>=2.8.1->pandas->gradio) (1.16.0)\n"
          ]
        }
      ]
    },
    {
      "cell_type": "code",
      "execution_count": 5,
      "id": "2b105b9c",
      "metadata": {
        "id": "2b105b9c"
      },
      "outputs": [],
      "source": [
        "import pandas as pd\n",
        "import numpy as np\n",
        "from sklearn.model_selection import train_test_split\n",
        "from sklearn.linear_model import LogisticRegression\n",
        "from sklearn.metrics import confusion_matrix,accuracy_score\n",
        "from sklearn.model_selection import GridSearchCV\n",
        "from sklearn.tree import DecisionTreeClassifier\n",
        "from sklearn.ensemble import GradientBoostingClassifier\n",
        "import pickle"
      ]
    },
    {
      "cell_type": "code",
      "execution_count": 6,
      "id": "3f057cab",
      "metadata": {
        "id": "3f057cab"
      },
      "outputs": [],
      "source": [
        "df=pd.read_csv(\"SRM Student Academic Satisfaction Survey (Responses) - Form Responses 1.csv\")"
      ]
    },
    {
      "cell_type": "code",
      "execution_count": 7,
      "id": "acda0d88",
      "metadata": {
        "id": "acda0d88"
      },
      "outputs": [],
      "source": [
        "df.drop('Timestamp',axis=1,inplace=True)"
      ]
    },
    {
      "cell_type": "code",
      "execution_count": 8,
      "id": "2bfe9371",
      "metadata": {
        "id": "2bfe9371"
      },
      "outputs": [],
      "source": [
        "X=df.drop('Rate Overall Satisfaction',axis=1)\n",
        "y=df['Rate Overall Satisfaction']"
      ]
    },
    {
      "cell_type": "code",
      "execution_count": 9,
      "id": "df9544f2",
      "metadata": {
        "id": "df9544f2"
      },
      "outputs": [],
      "source": [
        "X_train, X_test, y_train, y_test = train_test_split(X, y, test_size=0.2, random_state=42)"
      ]
    },
    {
      "cell_type": "code",
      "execution_count": 10,
      "id": "5237364b",
      "metadata": {
        "colab": {
          "base_uri": "https://localhost:8080/"
        },
        "id": "5237364b",
        "outputId": "853672a3-fc39-4124-8ff3-dd2f8505eef1"
      },
      "outputs": [
        {
          "output_type": "stream",
          "name": "stdout",
          "text": [
            "      Iter       Train Loss   Remaining Time \n",
            "         1           1.4238            3.81s\n",
            "         2           1.3983            3.64s\n",
            "         3           1.3752            4.06s\n",
            "         4           1.3530            3.92s\n",
            "         5           1.3305            3.87s\n",
            "         6           1.3093            3.83s\n",
            "         7           1.2887            3.78s\n",
            "         8           1.2692            3.74s\n",
            "         9           1.2500            3.85s\n",
            "        10           1.2316            3.94s\n",
            "        11           1.2138            3.97s\n",
            "        12           1.1965            3.91s\n",
            "        13           1.1796            3.86s\n",
            "        14           1.1645            3.82s\n",
            "        15           1.1485            3.83s\n",
            "        16           1.1336            3.79s\n",
            "        17           1.1183            3.82s\n",
            "        18           1.1039            3.83s\n",
            "        19           1.0898            3.80s\n",
            "        20           1.0764            3.76s\n",
            "        21           1.0625            3.73s\n",
            "        22           1.0494            3.72s\n",
            "        23           1.0362            3.71s\n",
            "        24           1.0240            3.71s\n",
            "        25           1.0119            3.68s\n",
            "        26           1.0000            3.68s\n",
            "        27           0.9882            3.74s\n",
            "        28           0.9766            3.73s\n",
            "        29           0.9656            3.72s\n",
            "        30           0.9543            3.70s\n",
            "        31           0.9436            3.68s\n",
            "        32           0.9330            3.67s\n",
            "        33           0.9228            3.65s\n",
            "        34           0.9129            3.64s\n",
            "        35           0.9032            3.63s\n",
            "        36           0.8937            3.61s\n",
            "        37           0.8837            3.59s\n",
            "        38           0.8745            3.58s\n",
            "        39           0.8653            3.56s\n",
            "        40           0.8561            3.55s\n",
            "        41           0.8472            3.57s\n",
            "        42           0.8386            3.59s\n",
            "        43           0.8297            3.58s\n",
            "        44           0.8213            3.57s\n",
            "        45           0.8132            3.55s\n",
            "        46           0.8054            3.56s\n",
            "        47           0.7976            3.55s\n",
            "        48           0.7898            3.53s\n",
            "        49           0.7823            3.52s\n",
            "        50           0.7750            3.51s\n",
            "        51           0.7675            3.49s\n",
            "        52           0.7604            3.48s\n",
            "        53           0.7535            3.52s\n",
            "        54           0.7466            3.50s\n",
            "        55           0.7401            3.49s\n",
            "        56           0.7334            3.48s\n",
            "        57           0.7273            3.47s\n",
            "        58           0.7211            3.46s\n",
            "        59           0.7147            3.45s\n",
            "        60           0.7083            3.43s\n",
            "        61           0.7023            3.42s\n",
            "        62           0.6968            3.40s\n",
            "        63           0.6912            3.40s\n",
            "        64           0.6859            3.38s\n",
            "        65           0.6804            3.37s\n",
            "        66           0.6748            3.36s\n",
            "        67           0.6692            3.34s\n",
            "        68           0.6640            3.33s\n",
            "        69           0.6589            3.32s\n",
            "        70           0.6537            3.31s\n",
            "        71           0.6485            3.30s\n",
            "        72           0.6431            3.28s\n",
            "        73           0.6385            3.27s\n",
            "        74           0.6335            3.26s\n",
            "        75           0.6286            3.25s\n",
            "        76           0.6239            3.23s\n",
            "        77           0.6193            3.22s\n",
            "        78           0.6149            3.21s\n",
            "        79           0.6106            3.20s\n",
            "        80           0.6063            3.19s\n",
            "        81           0.6018            3.18s\n",
            "        82           0.5975            3.19s\n",
            "        83           0.5932            3.18s\n",
            "        84           0.5889            3.17s\n",
            "        85           0.5848            3.16s\n",
            "        86           0.5806            3.15s\n",
            "        87           0.5766            3.14s\n",
            "        88           0.5726            3.13s\n",
            "        89           0.5687            3.12s\n",
            "        90           0.5647            3.11s\n",
            "        91           0.5608            3.10s\n",
            "        92           0.5572            3.09s\n",
            "        93           0.5535            3.08s\n",
            "        94           0.5499            3.07s\n",
            "        95           0.5462            3.06s\n",
            "        96           0.5427            3.05s\n",
            "        97           0.5394            3.04s\n",
            "        98           0.5359            3.03s\n",
            "        99           0.5327            3.02s\n",
            "       100           0.5292            3.01s\n",
            "       101           0.5261            3.00s\n",
            "       102           0.5227            2.99s\n",
            "       103           0.5196            2.98s\n",
            "       104           0.5165            2.97s\n",
            "       105           0.5136            2.96s\n",
            "       106           0.5106            2.95s\n",
            "       107           0.5077            2.94s\n",
            "       108           0.5048            2.93s\n",
            "       109           0.5020            2.92s\n",
            "       110           0.4992            2.91s\n",
            "       111           0.4962            2.90s\n",
            "       112           0.4932            2.90s\n",
            "       113           0.4904            2.89s\n",
            "       114           0.4875            2.88s\n",
            "       115           0.4849            2.87s\n",
            "       116           0.4820            2.86s\n",
            "       117           0.4792            2.85s\n",
            "       118           0.4764            2.84s\n",
            "       119           0.4740            2.83s\n",
            "       120           0.4715            2.82s\n",
            "       121           0.4690            2.82s\n",
            "       122           0.4666            2.81s\n",
            "       123           0.4641            2.80s\n",
            "       124           0.4616            2.79s\n",
            "       125           0.4592            2.78s\n",
            "       126           0.4568            2.77s\n",
            "       127           0.4546            2.77s\n",
            "       128           0.4524            2.76s\n",
            "       129           0.4502            2.75s\n",
            "       130           0.4480            2.74s\n",
            "       131           0.4460            2.73s\n",
            "       132           0.4439            2.72s\n",
            "       133           0.4420            2.72s\n",
            "       134           0.4399            2.71s\n",
            "       135           0.4378            2.70s\n",
            "       136           0.4357            2.69s\n",
            "       137           0.4333            2.68s\n",
            "       138           0.4315            2.67s\n",
            "       139           0.4295            2.66s\n",
            "       140           0.4275            2.65s\n",
            "       141           0.4256            2.66s\n",
            "       142           0.4236            2.65s\n",
            "       143           0.4216            2.64s\n",
            "       144           0.4197            2.63s\n",
            "       145           0.4178            2.62s\n",
            "       146           0.4159            2.61s\n",
            "       147           0.4140            2.61s\n",
            "       148           0.4122            2.60s\n",
            "       149           0.4104            2.59s\n",
            "       150           0.4085            2.58s\n",
            "       151           0.4067            2.58s\n",
            "       152           0.4049            2.57s\n",
            "       153           0.4033            2.56s\n",
            "       154           0.4016            2.55s\n",
            "       155           0.3999            2.55s\n",
            "       156           0.3984            2.55s\n",
            "       157           0.3967            2.54s\n",
            "       158           0.3952            2.53s\n",
            "       159           0.3935            2.52s\n",
            "       160           0.3920            2.52s\n",
            "       161           0.3905            2.51s\n",
            "       162           0.3890            2.50s\n",
            "       163           0.3876            2.49s\n",
            "       164           0.3861            2.48s\n",
            "       165           0.3848            2.47s\n",
            "       166           0.3833            2.47s\n",
            "       167           0.3818            2.46s\n",
            "       168           0.3804            2.45s\n",
            "       169           0.3790            2.44s\n",
            "       170           0.3777            2.45s\n",
            "       171           0.3762            2.44s\n",
            "       172           0.3748            2.44s\n",
            "       173           0.3734            2.44s\n",
            "       174           0.3721            2.44s\n",
            "       175           0.3709            2.45s\n",
            "       176           0.3696            2.45s\n",
            "       177           0.3683            2.48s\n",
            "       178           0.3671            2.49s\n",
            "       179           0.3656            2.51s\n",
            "       180           0.3645            2.52s\n",
            "       181           0.3633            2.52s\n",
            "       182           0.3621            2.52s\n",
            "       183           0.3610            2.52s\n",
            "       184           0.3598            2.52s\n",
            "       185           0.3587            2.51s\n",
            "       186           0.3576            2.52s\n",
            "       187           0.3565            2.51s\n",
            "       188           0.3554            2.51s\n",
            "       189           0.3541            2.51s\n",
            "       190           0.3530            2.50s\n",
            "       191           0.3519            2.50s\n",
            "       192           0.3507            2.49s\n",
            "       193           0.3496            2.49s\n",
            "       194           0.3484            2.49s\n",
            "       195           0.3474            2.48s\n",
            "       196           0.3463            2.48s\n",
            "       197           0.3451            2.48s\n",
            "       198           0.3440            2.47s\n",
            "       199           0.3429            2.47s\n",
            "       200           0.3418            2.46s\n",
            "       201           0.3409            2.46s\n",
            "       202           0.3399            2.45s\n",
            "       203           0.3388            2.45s\n",
            "       204           0.3378            2.45s\n",
            "       205           0.3369            2.44s\n",
            "       206           0.3360            2.44s\n",
            "       207           0.3350            2.43s\n",
            "       208           0.3342            2.43s\n",
            "       209           0.3331            2.42s\n",
            "       210           0.3322            2.41s\n",
            "       211           0.3311            2.40s\n",
            "       212           0.3301            2.39s\n",
            "       213           0.3292            2.38s\n",
            "       214           0.3283            2.37s\n",
            "       215           0.3274            2.36s\n",
            "       216           0.3264            2.35s\n",
            "       217           0.3254            2.34s\n",
            "       218           0.3245            2.33s\n",
            "       219           0.3236            2.32s\n",
            "       220           0.3228            2.31s\n",
            "       221           0.3221            2.30s\n",
            "       222           0.3213            2.29s\n",
            "       223           0.3204            2.28s\n",
            "       224           0.3197            2.27s\n",
            "       225           0.3187            2.26s\n",
            "       226           0.3179            2.25s\n",
            "       227           0.3171            2.24s\n",
            "       228           0.3161            2.23s\n",
            "       229           0.3154            2.23s\n",
            "       230           0.3146            2.22s\n",
            "       231           0.3137            2.21s\n",
            "       232           0.3130            2.20s\n",
            "       233           0.3123            2.19s\n",
            "       234           0.3114            2.18s\n",
            "       235           0.3108            2.17s\n",
            "       236           0.3099            2.16s\n",
            "       237           0.3091            2.15s\n",
            "       238           0.3083            2.14s\n",
            "       239           0.3076            2.13s\n",
            "       240           0.3067            2.12s\n",
            "       241           0.3060            2.11s\n",
            "       242           0.3052            2.10s\n",
            "       243           0.3045            2.09s\n",
            "       244           0.3037            2.09s\n",
            "       245           0.3031            2.08s\n",
            "       246           0.3023            2.07s\n",
            "       247           0.3016            2.06s\n",
            "       248           0.3009            2.05s\n",
            "       249           0.3001            2.04s\n",
            "       250           0.2995            2.03s\n",
            "       251           0.2988            2.03s\n",
            "       252           0.2981            2.02s\n",
            "       253           0.2975            2.01s\n",
            "       254           0.2967            2.00s\n",
            "       255           0.2958            1.99s\n",
            "       256           0.2951            1.98s\n",
            "       257           0.2945            1.98s\n",
            "       258           0.2938            1.97s\n",
            "       259           0.2932            1.96s\n",
            "       260           0.2926            1.95s\n",
            "       261           0.2920            1.94s\n",
            "       262           0.2914            1.93s\n",
            "       263           0.2908            1.92s\n",
            "       264           0.2902            1.91s\n",
            "       265           0.2896            1.91s\n",
            "       266           0.2890            1.90s\n",
            "       267           0.2883            1.89s\n",
            "       268           0.2877            1.88s\n",
            "       269           0.2869            1.87s\n",
            "       270           0.2864            1.86s\n",
            "       271           0.2859            1.85s\n",
            "       272           0.2853            1.84s\n",
            "       273           0.2848            1.83s\n",
            "       274           0.2841            1.83s\n",
            "       275           0.2835            1.82s\n",
            "       276           0.2829            1.81s\n",
            "       277           0.2823            1.80s\n",
            "       278           0.2817            1.79s\n",
            "       279           0.2812            1.78s\n",
            "       280           0.2806            1.78s\n",
            "       281           0.2801            1.77s\n",
            "       282           0.2795            1.76s\n",
            "       283           0.2788            1.75s\n",
            "       284           0.2782            1.74s\n",
            "       285           0.2776            1.74s\n",
            "       286           0.2770            1.73s\n",
            "       287           0.2766            1.72s\n",
            "       288           0.2760            1.71s\n",
            "       289           0.2755            1.70s\n",
            "       290           0.2750            1.69s\n",
            "       291           0.2745            1.68s\n",
            "       292           0.2740            1.68s\n",
            "       293           0.2735            1.67s\n",
            "       294           0.2729            1.66s\n",
            "       295           0.2723            1.65s\n",
            "       296           0.2718            1.64s\n",
            "       297           0.2714            1.64s\n",
            "       298           0.2708            1.63s\n",
            "       299           0.2703            1.62s\n",
            "       300           0.2697            1.61s\n",
            "       301           0.2692            1.60s\n",
            "       302           0.2687            1.59s\n",
            "       303           0.2682            1.58s\n",
            "       304           0.2677            1.58s\n",
            "       305           0.2671            1.57s\n",
            "       306           0.2667            1.56s\n",
            "       307           0.2663            1.55s\n",
            "       308           0.2658            1.54s\n",
            "       309           0.2653            1.53s\n",
            "       310           0.2646            1.52s\n",
            "       311           0.2641            1.52s\n",
            "       312           0.2636            1.51s\n",
            "       313           0.2632            1.50s\n",
            "       314           0.2628            1.49s\n",
            "       315           0.2623            1.48s\n",
            "       316           0.2619            1.48s\n",
            "       317           0.2614            1.47s\n",
            "       318           0.2609            1.46s\n",
            "       319           0.2604            1.45s\n",
            "       320           0.2599            1.44s\n",
            "       321           0.2593            1.43s\n",
            "       322           0.2589            1.42s\n",
            "       323           0.2584            1.41s\n",
            "       324           0.2578            1.41s\n",
            "       325           0.2574            1.40s\n",
            "       326           0.2568            1.39s\n",
            "       327           0.2563            1.39s\n",
            "       328           0.2558            1.39s\n",
            "       329           0.2554            1.38s\n",
            "       330           0.2551            1.37s\n",
            "       331           0.2547            1.37s\n",
            "       332           0.2543            1.36s\n",
            "       333           0.2539            1.35s\n",
            "       334           0.2535            1.34s\n",
            "       335           0.2530            1.34s\n",
            "       336           0.2526            1.33s\n",
            "       337           0.2520            1.33s\n",
            "       338           0.2514            1.32s\n",
            "       339           0.2510            1.31s\n",
            "       340           0.2506            1.30s\n",
            "       341           0.2502            1.30s\n",
            "       342           0.2498            1.29s\n",
            "       343           0.2493            1.28s\n",
            "       344           0.2490            1.27s\n",
            "       345           0.2485            1.27s\n",
            "       346           0.2480            1.26s\n",
            "       347           0.2476            1.25s\n",
            "       348           0.2471            1.24s\n",
            "       349           0.2467            1.24s\n",
            "       350           0.2463            1.23s\n",
            "       351           0.2459            1.22s\n",
            "       352           0.2455            1.21s\n",
            "       353           0.2452            1.21s\n",
            "       354           0.2448            1.20s\n",
            "       355           0.2443            1.19s\n",
            "       356           0.2439            1.19s\n",
            "       357           0.2436            1.18s\n",
            "       358           0.2432            1.17s\n",
            "       359           0.2429            1.16s\n",
            "       360           0.2426            1.16s\n",
            "       361           0.2422            1.15s\n",
            "       362           0.2418            1.14s\n",
            "       363           0.2414            1.13s\n",
            "       364           0.2410            1.13s\n",
            "       365           0.2407            1.12s\n",
            "       366           0.2403            1.11s\n",
            "       367           0.2400            1.10s\n",
            "       368           0.2396            1.10s\n",
            "       369           0.2393            1.09s\n",
            "       370           0.2389            1.08s\n",
            "       371           0.2385            1.07s\n",
            "       372           0.2382            1.07s\n",
            "       373           0.2378            1.06s\n",
            "       374           0.2375            1.05s\n",
            "       375           0.2370            1.04s\n",
            "       376           0.2367            1.04s\n",
            "       377           0.2364            1.03s\n",
            "       378           0.2360            1.02s\n",
            "       379           0.2357            1.01s\n",
            "       380           0.2354            1.01s\n",
            "       381           0.2351            1.00s\n",
            "       382           0.2348            0.99s\n",
            "       383           0.2344            0.98s\n",
            "       384           0.2341            0.97s\n",
            "       385           0.2336            0.97s\n",
            "       386           0.2334            0.96s\n",
            "       387           0.2330            0.95s\n",
            "       388           0.2327            0.94s\n",
            "       389           0.2322            0.93s\n",
            "       390           0.2319            0.93s\n",
            "       391           0.2316            0.92s\n",
            "       392           0.2312            0.91s\n",
            "       393           0.2308            0.91s\n",
            "       394           0.2304            0.90s\n",
            "       395           0.2300            0.89s\n",
            "       396           0.2297            0.88s\n",
            "       397           0.2294            0.87s\n",
            "       398           0.2290            0.87s\n",
            "       399           0.2288            0.86s\n",
            "       400           0.2285            0.85s\n",
            "       401           0.2282            0.84s\n",
            "       402           0.2279            0.84s\n",
            "       403           0.2275            0.83s\n",
            "       404           0.2270            0.82s\n",
            "       405           0.2267            0.82s\n",
            "       406           0.2263            0.81s\n",
            "       407           0.2259            0.81s\n",
            "       408           0.2256            0.80s\n",
            "       409           0.2252            0.80s\n",
            "       410           0.2249            0.79s\n",
            "       411           0.2244            0.79s\n",
            "       412           0.2240            0.78s\n",
            "       413           0.2237            0.77s\n",
            "       414           0.2233            0.76s\n",
            "       415           0.2230            0.75s\n",
            "       416           0.2226            0.74s\n",
            "       417           0.2223            0.74s\n",
            "       418           0.2220            0.73s\n",
            "       419           0.2217            0.72s\n",
            "       420           0.2214            0.71s\n",
            "       421           0.2212            0.70s\n",
            "       422           0.2210            0.69s\n",
            "       423           0.2207            0.69s\n",
            "       424           0.2204            0.68s\n",
            "       425           0.2200            0.67s\n",
            "       426           0.2198            0.67s\n",
            "       427           0.2194            0.66s\n",
            "       428           0.2191            0.65s\n",
            "       429           0.2187            0.65s\n",
            "       430           0.2185            0.64s\n",
            "       431           0.2182            0.63s\n",
            "       432           0.2178            0.63s\n",
            "       433           0.2175            0.62s\n",
            "       434           0.2174            0.61s\n",
            "       435           0.2170            0.60s\n",
            "       436           0.2166            0.59s\n",
            "       437           0.2163            0.58s\n",
            "       438           0.2160            0.57s\n",
            "       439           0.2157            0.56s\n",
            "       440           0.2154            0.55s\n",
            "       441           0.2150            0.55s\n",
            "       442           0.2147            0.54s\n",
            "       443           0.2144            0.53s\n",
            "       444           0.2141            0.52s\n",
            "       445           0.2138            0.51s\n",
            "       446           0.2135            0.50s\n",
            "       447           0.2131            0.49s\n",
            "       448           0.2129            0.48s\n",
            "       449           0.2126            0.47s\n",
            "       450           0.2122            0.46s\n",
            "       451           0.2119            0.45s\n",
            "       452           0.2115            0.45s\n",
            "       453           0.2112            0.44s\n",
            "       454           0.2108            0.43s\n",
            "       455           0.2106            0.42s\n",
            "       456           0.2104            0.41s\n",
            "       457           0.2101            0.40s\n",
            "       458           0.2097            0.39s\n",
            "       459           0.2094            0.38s\n",
            "       460           0.2092            0.37s\n",
            "       461           0.2089            0.36s\n",
            "       462           0.2085            0.35s\n",
            "       463           0.2082            0.34s\n",
            "       464           0.2080            0.33s\n",
            "       465           0.2076            0.33s\n",
            "       466           0.2073            0.32s\n",
            "       467           0.2071            0.31s\n",
            "       468           0.2069            0.30s\n",
            "       469           0.2066            0.29s\n",
            "       470           0.2064            0.28s\n",
            "       471           0.2061            0.27s\n",
            "       472           0.2058            0.26s\n",
            "       473           0.2055            0.25s\n",
            "       474           0.2052            0.24s\n",
            "       475           0.2050            0.23s\n",
            "       476           0.2046            0.22s\n",
            "       477           0.2043            0.21s\n",
            "       478           0.2041            0.21s\n",
            "       479           0.2037            0.20s\n",
            "       480           0.2034            0.19s\n",
            "       481           0.2031            0.18s\n",
            "       482           0.2029            0.17s\n",
            "       483           0.2026            0.16s\n",
            "       484           0.2024            0.15s\n",
            "       485           0.2021            0.14s\n",
            "       486           0.2018            0.13s\n",
            "       487           0.2016            0.12s\n",
            "       488           0.2013            0.11s\n",
            "       489           0.2011            0.10s\n",
            "       490           0.2008            0.09s\n",
            "       491           0.2007            0.08s\n",
            "       492           0.2004            0.07s\n",
            "       493           0.2002            0.07s\n",
            "       494           0.1999            0.06s\n",
            "       495           0.1998            0.05s\n",
            "       496           0.1995            0.04s\n",
            "       497           0.1993            0.03s\n",
            "       498           0.1990            0.02s\n",
            "       499           0.1988            0.01s\n",
            "       500           0.1984            0.00s\n"
          ]
        }
      ],
      "source": [
        "classification=GradientBoostingClassifier(n_estimators=500, learning_rate=0.01,verbose=2,max_features='log2').fit(X_train, y_train)"
      ]
    },
    {
      "cell_type": "code",
      "execution_count": 11,
      "id": "54848144",
      "metadata": {
        "colab": {
          "base_uri": "https://localhost:8080/",
          "height": 92
        },
        "id": "54848144",
        "outputId": "dd2e2576-dfd5-4a0d-ad2e-73f3f38e9062"
      },
      "outputs": [
        {
          "output_type": "execute_result",
          "data": {
            "text/plain": [
              "GradientBoostingClassifier(learning_rate=0.01, max_features='log2',\n",
              "                           n_estimators=500, verbose=2)"
            ],
            "text/html": [
              "<style>#sk-container-id-1 {color: black;background-color: white;}#sk-container-id-1 pre{padding: 0;}#sk-container-id-1 div.sk-toggleable {background-color: white;}#sk-container-id-1 label.sk-toggleable__label {cursor: pointer;display: block;width: 100%;margin-bottom: 0;padding: 0.3em;box-sizing: border-box;text-align: center;}#sk-container-id-1 label.sk-toggleable__label-arrow:before {content: \"▸\";float: left;margin-right: 0.25em;color: #696969;}#sk-container-id-1 label.sk-toggleable__label-arrow:hover:before {color: black;}#sk-container-id-1 div.sk-estimator:hover label.sk-toggleable__label-arrow:before {color: black;}#sk-container-id-1 div.sk-toggleable__content {max-height: 0;max-width: 0;overflow: hidden;text-align: left;background-color: #f0f8ff;}#sk-container-id-1 div.sk-toggleable__content pre {margin: 0.2em;color: black;border-radius: 0.25em;background-color: #f0f8ff;}#sk-container-id-1 input.sk-toggleable__control:checked~div.sk-toggleable__content {max-height: 200px;max-width: 100%;overflow: auto;}#sk-container-id-1 input.sk-toggleable__control:checked~label.sk-toggleable__label-arrow:before {content: \"▾\";}#sk-container-id-1 div.sk-estimator input.sk-toggleable__control:checked~label.sk-toggleable__label {background-color: #d4ebff;}#sk-container-id-1 div.sk-label input.sk-toggleable__control:checked~label.sk-toggleable__label {background-color: #d4ebff;}#sk-container-id-1 input.sk-hidden--visually {border: 0;clip: rect(1px 1px 1px 1px);clip: rect(1px, 1px, 1px, 1px);height: 1px;margin: -1px;overflow: hidden;padding: 0;position: absolute;width: 1px;}#sk-container-id-1 div.sk-estimator {font-family: monospace;background-color: #f0f8ff;border: 1px dotted black;border-radius: 0.25em;box-sizing: border-box;margin-bottom: 0.5em;}#sk-container-id-1 div.sk-estimator:hover {background-color: #d4ebff;}#sk-container-id-1 div.sk-parallel-item::after {content: \"\";width: 100%;border-bottom: 1px solid gray;flex-grow: 1;}#sk-container-id-1 div.sk-label:hover label.sk-toggleable__label {background-color: #d4ebff;}#sk-container-id-1 div.sk-serial::before {content: \"\";position: absolute;border-left: 1px solid gray;box-sizing: border-box;top: 0;bottom: 0;left: 50%;z-index: 0;}#sk-container-id-1 div.sk-serial {display: flex;flex-direction: column;align-items: center;background-color: white;padding-right: 0.2em;padding-left: 0.2em;position: relative;}#sk-container-id-1 div.sk-item {position: relative;z-index: 1;}#sk-container-id-1 div.sk-parallel {display: flex;align-items: stretch;justify-content: center;background-color: white;position: relative;}#sk-container-id-1 div.sk-item::before, #sk-container-id-1 div.sk-parallel-item::before {content: \"\";position: absolute;border-left: 1px solid gray;box-sizing: border-box;top: 0;bottom: 0;left: 50%;z-index: -1;}#sk-container-id-1 div.sk-parallel-item {display: flex;flex-direction: column;z-index: 1;position: relative;background-color: white;}#sk-container-id-1 div.sk-parallel-item:first-child::after {align-self: flex-end;width: 50%;}#sk-container-id-1 div.sk-parallel-item:last-child::after {align-self: flex-start;width: 50%;}#sk-container-id-1 div.sk-parallel-item:only-child::after {width: 0;}#sk-container-id-1 div.sk-dashed-wrapped {border: 1px dashed gray;margin: 0 0.4em 0.5em 0.4em;box-sizing: border-box;padding-bottom: 0.4em;background-color: white;}#sk-container-id-1 div.sk-label label {font-family: monospace;font-weight: bold;display: inline-block;line-height: 1.2em;}#sk-container-id-1 div.sk-label-container {text-align: center;}#sk-container-id-1 div.sk-container {/* jupyter's `normalize.less` sets `[hidden] { display: none; }` but bootstrap.min.css set `[hidden] { display: none !important; }` so we also need the `!important` here to be able to override the default hidden behavior on the sphinx rendered scikit-learn.org. See: https://github.com/scikit-learn/scikit-learn/issues/21755 */display: inline-block !important;position: relative;}#sk-container-id-1 div.sk-text-repr-fallback {display: none;}</style><div id=\"sk-container-id-1\" class=\"sk-top-container\"><div class=\"sk-text-repr-fallback\"><pre>GradientBoostingClassifier(learning_rate=0.01, max_features=&#x27;log2&#x27;,\n",
              "                           n_estimators=500, verbose=2)</pre><b>In a Jupyter environment, please rerun this cell to show the HTML representation or trust the notebook. <br />On GitHub, the HTML representation is unable to render, please try loading this page with nbviewer.org.</b></div><div class=\"sk-container\" hidden><div class=\"sk-item\"><div class=\"sk-estimator sk-toggleable\"><input class=\"sk-toggleable__control sk-hidden--visually\" id=\"sk-estimator-id-1\" type=\"checkbox\" checked><label for=\"sk-estimator-id-1\" class=\"sk-toggleable__label sk-toggleable__label-arrow\">GradientBoostingClassifier</label><div class=\"sk-toggleable__content\"><pre>GradientBoostingClassifier(learning_rate=0.01, max_features=&#x27;log2&#x27;,\n",
              "                           n_estimators=500, verbose=2)</pre></div></div></div></div></div>"
            ]
          },
          "metadata": {},
          "execution_count": 11
        }
      ],
      "source": [
        "classification"
      ]
    },
    {
      "cell_type": "code",
      "execution_count": 12,
      "id": "84b9bd1f",
      "metadata": {
        "id": "84b9bd1f"
      },
      "outputs": [],
      "source": [
        "y_pred=classification.predict(X_test)"
      ]
    },
    {
      "cell_type": "code",
      "execution_count": 13,
      "id": "8f87093a",
      "metadata": {
        "colab": {
          "base_uri": "https://localhost:8080/"
        },
        "id": "8f87093a",
        "outputId": "82d55737-7f14-424f-a8aa-5cfbede4b2e8"
      },
      "outputs": [
        {
          "output_type": "execute_result",
          "data": {
            "text/plain": [
              "array([1, 4, 4, 3, 3, 4, 3, 2, 5, 5, 3, 4, 3, 5, 4, 1, 3, 5, 5, 3, 3, 5,\n",
              "       4, 3, 3, 1, 5, 2, 3, 4, 5, 3, 4, 2, 4, 3, 4, 5, 5, 5, 2, 4, 4, 4,\n",
              "       5, 3, 2, 3, 3, 3, 3, 4, 4, 4, 3, 3, 3, 1, 4, 3, 2, 4, 3, 2, 4, 5,\n",
              "       3, 4, 3, 5, 4, 3, 3, 1, 5, 4, 1, 3, 1, 4, 3, 4, 5, 4, 3, 4, 4, 5,\n",
              "       4, 3, 4, 5, 1, 5, 3, 3, 2, 5, 3, 4, 1, 3, 1, 3, 4, 4, 3, 5, 4, 5,\n",
              "       2, 5, 3, 4, 3, 3, 4, 4, 4, 4, 3, 3, 3, 5, 3, 4, 4, 5, 4, 4, 4, 3,\n",
              "       4, 2, 5, 4, 5, 3, 5, 4, 4, 4, 3, 5, 5, 4, 4, 5, 4, 5, 5, 2, 3, 2,\n",
              "       2, 3, 4, 2, 5, 4, 5, 1, 3, 4, 4, 3, 2, 4, 4, 2, 4, 3, 4, 5, 3, 5,\n",
              "       4, 2, 2, 3, 5])"
            ]
          },
          "metadata": {},
          "execution_count": 13
        }
      ],
      "source": [
        "y_pred"
      ]
    },
    {
      "cell_type": "code",
      "execution_count": 14,
      "id": "0b42c9ca",
      "metadata": {
        "colab": {
          "base_uri": "https://localhost:8080/"
        },
        "id": "0b42c9ca",
        "outputId": "c89c6c96-4b74-448f-b527-3a5597d2d752"
      },
      "outputs": [
        {
          "output_type": "execute_result",
          "data": {
            "text/plain": [
              "array([[11,  1,  0,  0,  0],\n",
              "       [ 0, 17,  2,  0,  0],\n",
              "       [ 0,  0, 46,  1,  0],\n",
              "       [ 0,  0,  6, 58,  2],\n",
              "       [ 0,  0,  0,  1, 36]])"
            ]
          },
          "metadata": {},
          "execution_count": 14
        }
      ],
      "source": [
        "confusion_matrix(y_test,y_pred)"
      ]
    },
    {
      "cell_type": "code",
      "execution_count": 15,
      "id": "1e45a67e",
      "metadata": {
        "colab": {
          "base_uri": "https://localhost:8080/"
        },
        "id": "1e45a67e",
        "outputId": "f40b1747-f941-4d31-baa3-f09511480b8a"
      },
      "outputs": [
        {
          "output_type": "execute_result",
          "data": {
            "text/plain": [
              "0.9281767955801105"
            ]
          },
          "metadata": {},
          "execution_count": 15
        }
      ],
      "source": [
        "accuracy_score(y_test,y_pred)"
      ]
    },
    {
      "cell_type": "code",
      "execution_count": 16,
      "id": "8f61f593",
      "metadata": {
        "id": "8f61f593"
      },
      "outputs": [],
      "source": [
        "with open('model.pkl', 'wb') as f:\n",
        "    pickle.dump(classification, f)"
      ]
    },
    {
      "cell_type": "code",
      "source": [
        "with open('model.pkl', 'rb') as f:\n",
        "  model = pickle.load(f)\n",
        "def ml(Rate_Quality_of_Teaching,Rate_Course_Content,Rate_Course_organization,Rate_Resources_and_Facilitiees,Rate_Assessment_and_Feedback,Rate_Student_Engagement,Rate_Learning_Outcomes,Rate_Support_Services):\n",
        "  x = np.array([Rate_Quality_of_Teaching,Rate_Course_Content,Rate_Course_organization,Rate_Resources_and_Facilitiees,Rate_Assessment_and_Feedback,Rate_Student_Engagement,Rate_Learning_Outcomes,Rate_Support_Services])\n",
        "  \n",
        "  prediction = model.predict(x.reshape(1,-1))\n",
        "  return prediction"
      ],
      "metadata": {
        "id": "TpY97v84vO9U"
      },
      "id": "TpY97v84vO9U",
      "execution_count": 17,
      "outputs": []
    },
    {
      "cell_type": "code",
      "source": [
        "import gradio as gr\n",
        "outputs = gr.outputs.Textbox()\n",
        "\n",
        "app = gr.Interface(fn=ml, inputs=['number','number','number','number','number','number','number','number'], outputs=outputs,description=\"SRM Student Academic Satisfaction Survey\")"
      ],
      "metadata": {
        "colab": {
          "base_uri": "https://localhost:8080/"
        },
        "id": "7DN3ae2Qxeak",
        "outputId": "7174b306-14d7-4fff-d7a7-5c2fb77998bb"
      },
      "id": "7DN3ae2Qxeak",
      "execution_count": 18,
      "outputs": [
        {
          "output_type": "stream",
          "name": "stderr",
          "text": [
            "/usr/local/lib/python3.9/dist-packages/gradio/outputs.py:22: UserWarning: Usage of gradio.outputs is deprecated, and will not be supported in the future, please import your components from gradio.components\n",
            "  warnings.warn(\n"
          ]
        }
      ]
    },
    {
      "cell_type": "code",
      "source": [
        "app.launch(share=True)"
      ],
      "metadata": {
        "colab": {
          "base_uri": "https://localhost:8080/",
          "height": 612
        },
        "id": "vZdwrrBpyvyq",
        "outputId": "838eb5b1-3348-4672-f458-77c8dd2051d8"
      },
      "id": "vZdwrrBpyvyq",
      "execution_count": 19,
      "outputs": [
        {
          "output_type": "stream",
          "name": "stdout",
          "text": [
            "Colab notebook detected. To show errors in colab notebook, set debug=True in launch()\n",
            "Running on public URL: https://bc1cbeb081fe3796ac.gradio.live\n",
            "\n",
            "This share link expires in 72 hours. For free permanent hosting and GPU upgrades (NEW!), check out Spaces: https://huggingface.co/spaces\n"
          ]
        },
        {
          "output_type": "display_data",
          "data": {
            "text/plain": [
              "<IPython.core.display.HTML object>"
            ],
            "text/html": [
              "<div><iframe src=\"https://bc1cbeb081fe3796ac.gradio.live\" width=\"100%\" height=\"500\" allow=\"autoplay; camera; microphone; clipboard-read; clipboard-write;\" frameborder=\"0\" allowfullscreen></iframe></div>"
            ]
          },
          "metadata": {}
        },
        {
          "output_type": "execute_result",
          "data": {
            "text/plain": []
          },
          "metadata": {},
          "execution_count": 19
        }
      ]
    }
  ],
  "metadata": {
    "kernelspec": {
      "display_name": "Python 3 (ipykernel)",
      "language": "python",
      "name": "python3"
    },
    "language_info": {
      "codemirror_mode": {
        "name": "ipython",
        "version": 3
      },
      "file_extension": ".py",
      "mimetype": "text/x-python",
      "name": "python",
      "nbconvert_exporter": "python",
      "pygments_lexer": "ipython3",
      "version": "3.9.13"
    },
    "colab": {
      "provenance": []
    }
  },
  "nbformat": 4,
  "nbformat_minor": 5
}